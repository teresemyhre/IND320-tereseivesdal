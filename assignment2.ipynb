{
 "cells": [
  {
   "cell_type": "code",
   "execution_count": 3,
   "id": "242402b9",
   "metadata": {},
   "outputs": [
    {
     "name": "stdout",
     "output_type": "stream",
     "text": [
      "Pinged your deployment. You successfully connected to MongoDB!\n"
     ]
    }
   ],
   "source": [
    "from pymongo.mongo_client import MongoClient\n",
    "from pymongo.server_api import ServerApi\n",
    "from dotenv import load_dotenv\n",
    "import os\n",
    "\n",
    "# Load .env file\n",
    "load_dotenv()\n",
    "\n",
    "uri = os.getenv(\"MONGO_URI\")\n",
    "\n",
    "# Create a new client and connect to the server\n",
    "client = MongoClient(uri, server_api=ServerApi('1'))\n",
    "# Send a ping to confirm a successful connection\n",
    "try:\n",
    "    client.admin.command('ping')\n",
    "    print(\"Pinged your deployment. You successfully connected to MongoDB!\")\n",
    "except Exception as e:\n",
    "    print(e)"
   ]
  },
  {
   "cell_type": "code",
   "execution_count": null,
   "id": "76bdf4ff",
   "metadata": {},
   "outputs": [
    {
     "name": "stdout",
     "output_type": "stream",
     "text": [
      "Retrieved document: {'_id': ObjectId('68f9359030af0db0206c1daa'), 'name': 'test', 'value': 42}\n"
     ]
    }
   ],
   "source": [
    "# Manipulate data from Python\n",
    "db = client.test_database\n",
    "collection = db.test_collection\n",
    "collection.insert_one({\"name\": \"test\", \"value\": 42})\n",
    "result = collection.find_one({\"name\": \"test\"})\n",
    "print(\"Retrieved document:\", result)"
   ]
  },
  {
   "cell_type": "markdown",
   "id": "d33dcfd9",
   "metadata": {},
   "source": [
    "This code successfully connected to MongoDB, inserted a test document, and retrieved it to confirm that data manipulation from Python works correctly.\n",
    "\n",
    "### Retrieve data from the API\n"
   ]
  },
  {
   "cell_type": "code",
   "execution_count": null,
   "id": "a2ef00c1",
   "metadata": {},
   "outputs": [
    {
     "name": "stdout",
     "output_type": "stream",
     "text": [
      "Status code: 200\n",
      "First 200 chars of response:\n",
      "<!DOCTYPE html>\n",
      "<html lang=\"en\">\n",
      "  <head>\n",
      "    <meta charset=\"utf-8\" />\n",
      "    <meta name=\"viewport\" content=\"width=device-width, initial-scale=1.0\" />\n",
      "    <meta name=\"theme-color\" content=\"#000000\" />\n",
      "  \n"
     ]
    }
   ],
   "source": [
    "import requests\n",
    "\n",
    "url = \"https://api.elhub.no/production/v1/PRODUCTION_PER_GROUP_MBA_HOUR/2021-01-01/2021-12-31\"\n",
    "response = requests.get(url)\n",
    "\n",
    "print(\"Status code:\", response.status_code)\n",
    "print(\"First 200 chars of response:\")\n",
    "print(response.text[:200])"
   ]
  },
  {
   "cell_type": "code",
   "execution_count": null,
   "id": "bc0ca6c3",
   "metadata": {},
   "outputs": [],
   "source": []
  }
 ],
 "metadata": {
  "kernelspec": {
   "display_name": "D2D_env",
   "language": "python",
   "name": "python3"
  },
  "language_info": {
   "codemirror_mode": {
    "name": "ipython",
    "version": 3
   },
   "file_extension": ".py",
   "mimetype": "text/x-python",
   "name": "python",
   "nbconvert_exporter": "python",
   "pygments_lexer": "ipython3",
   "version": "3.12.10"
  }
 },
 "nbformat": 4,
 "nbformat_minor": 5
}
